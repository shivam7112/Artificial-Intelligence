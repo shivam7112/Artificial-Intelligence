{
 "cells": [
  {
   "cell_type": "markdown",
   "metadata": {},
   "source": [
    "# Heuristic Search"
   ]
  },
  {
   "cell_type": "code",
   "execution_count": 75,
   "metadata": {},
   "outputs": [],
   "source": [
    "def check_goal(state,goal):\n",
    "    if state == goal:\n",
    "        return True\n",
    "    return False\n",
    "\n",
    "def create_node(state,parent,cost):\n",
    "    return Node(state,parent,cost)\n",
    "\n",
    "def generate_children(self):\n",
    "    child_nodes = []\n",
    "    state = self.get_state().copy()\n",
    "    child_nodes.append(create_node(move_up(state),self,calculate_cost(state,goal_state)))\n",
    "    state = self.get_state().copy()\n",
    "    child_nodes.append(create_node(move_down(state),self,calculate_cost(state,goal_state)))\n",
    "    state = self.get_state().copy()\n",
    "    child_nodes.append(create_node(move_left(state),self,calculate_cost(state,goal_state)))\n",
    "    state = self.get_state().copy()\n",
    "    child_nodes.append(create_node(move_right(state),self,calculate_cost(state,goal_state)))\n",
    "    child_nodes = [node for node in child_nodes if node.get_state() is not None]\n",
    "    return child_nodes"
   ]
  },
  {
   "cell_type": "code",
   "execution_count": 76,
   "metadata": {},
   "outputs": [],
   "source": [
    "class Node:\n",
    "    def __init__(self,state,parent,cost):\n",
    "        self.state = state\n",
    "        self.parent = parent\n",
    "        self.cost = cost\n",
    "        self.children_list = []\n",
    "        \n",
    "    \n",
    "    def get_cost(self):\n",
    "        return self.cost\n",
    "    \n",
    "    def get_state(self):\n",
    "        return self.state\n",
    "    \n",
    "    def set_list(self,l):\n",
    "        self.children_list = l.copy()\n",
    "    \n",
    "    def get_parent(self):\n",
    "        return self.parent\n",
    "    \n",
    "    def get_children_list(self):\n",
    "        return self.children_list"
   ]
  },
  {
   "cell_type": "code",
   "execution_count": 77,
   "metadata": {},
   "outputs": [],
   "source": [
    "def calculate_cost(state,goal_state):\n",
    "    cost = 0\n",
    "    for i in range(0,9):\n",
    "        if state[i] != goal_state[i]:\n",
    "            cost = cost+1\n",
    "            \n",
    "    return cost"
   ]
  },
  {
   "cell_type": "code",
   "execution_count": 78,
   "metadata": {},
   "outputs": [],
   "source": [
    "def move_left(state):\n",
    "    new_state = state\n",
    "    index = new_state.index(0)\n",
    "    if index not in [0, 3, 6]:\n",
    "        new_state[index], new_state[index - 1] = new_state[index - 1], new_state[index]\n",
    "        return new_state\n",
    "    else:\n",
    "        return None\n",
    "\n",
    "def move_down(state):\n",
    "    new_state = state\n",
    "    index = new_state.index(0)\n",
    "    if index not in [6, 7, 8]:\n",
    "        new_state[index], new_state[index + 3] = new_state[index + 3], new_state[index]\n",
    "        return new_state\n",
    "    else:\n",
    "        return None\n",
    "\n",
    "def move_up(state):\n",
    "    new_state = state\n",
    "    index = new_state.index(0)\n",
    "    if index not in [0, 1, 2]:\n",
    "        new_state[index], new_state[index - 3] = new_state[index - 3], new_state[index]\n",
    "        return new_state\n",
    "    else:\n",
    "        return None\n",
    "\n",
    "def move_right(state):\n",
    "    new_state = state\n",
    "    index = new_state.index(0)\n",
    "    if index not in [2, 5, 8]:\n",
    "        new_state[index], new_state[index + 1] = new_state[index + 1], new_state[index]\n",
    "        return new_state\n",
    "    else:\n",
    "        return None"
   ]
  },
  {
   "cell_type": "code",
   "execution_count": 85,
   "metadata": {},
   "outputs": [],
   "source": [
    "def path(node):\n",
    "    goal = node.get_state()\n",
    "    path_list = []\n",
    "    while node.get_parent():\n",
    "        path_list.append(node.get_parent().get_state())\n",
    "        node = node.get_parent()\n",
    "    path_list.reverse()\n",
    "    path_list.append(goal)\n",
    "    return path_list"
   ]
  },
  {
   "cell_type": "code",
   "execution_count": 80,
   "metadata": {},
   "outputs": [],
   "source": [
    "class pqueue:\n",
    "    def __init__(self):\n",
    "        self.queue = []\n",
    "        \n",
    "    def push(self,node):\n",
    "        if len(self.queue) == 0:\n",
    "            self.queue.append(node)\n",
    "        else:\n",
    "            count = -1\n",
    "            c = node.get_cost()\n",
    "            for n in self.queue:\n",
    "                if n.get_cost() < c:\n",
    "                    count += 1\n",
    "            self.queue.insert(count+1,node)\n",
    "            \n",
    "    def pop(self):\n",
    "        node = self.queue[0]\n",
    "        self.queue.pop(0)\n",
    "        return node\n",
    "    \n",
    "    def empty(self):\n",
    "        if not self.queue:\n",
    "            return True\n",
    "        else:\n",
    "            return False"
   ]
  },
  {
   "cell_type": "code",
   "execution_count": 83,
   "metadata": {},
   "outputs": [],
   "source": [
    "def Heuristic(start_node,goal_state):\n",
    "    q = pqueue()\n",
    "    visited_nodes = []\n",
    "    q.push(start_node)\n",
    "    \n",
    "    while q.queue:\n",
    "        current_node = q.pop()\n",
    "        cost = current_node.get_cost()\n",
    "        if cost == 0:\n",
    "            print(\"FOUND\")\n",
    "            return current_node\n",
    "        \n",
    "        nodes = generate_children(current_node)\n",
    "        visited_nodes.append(current_node)\n",
    "        n = nodes.copy()\n",
    "        current_node.set_list(nodes)\n",
    "        for node in n:\n",
    "            q.push(node)"
   ]
  },
  {
   "cell_type": "code",
   "execution_count": 86,
   "metadata": {},
   "outputs": [
    {
     "name": "stdout",
     "output_type": "stream",
     "text": [
      "FOUND\n",
      "[1, 2, 3, 0, 4, 6, 7, 5, 8]\n",
      "[1, 2, 3, 4, 0, 6, 7, 5, 8]\n",
      "[1, 2, 3, 4, 5, 6, 7, 0, 8]\n",
      "[1, 2, 3, 4, 5, 6, 7, 8, 0]\n"
     ]
    }
   ],
   "source": [
    "if __name__ == \"__main__\":\n",
    "    goal_state = [1,2,3,4,5,6,7,8,0]\n",
    "    start_state = create_node([1,2,3,0,4,6,7,5,8],None,calculate_cost([1,2,3,0,4,6,7,5,8],goal_state))\n",
    "    g_state = Heuristic(start_state,goal_state)\n",
    "    path = path(g_state)\n",
    "    for l in path:\n",
    "        print(l)"
   ]
  },
  {
   "cell_type": "code",
   "execution_count": null,
   "metadata": {},
   "outputs": [],
   "source": []
  }
 ],
 "metadata": {
  "kernelspec": {
   "display_name": "Python 3",
   "language": "python",
   "name": "python3"
  },
  "language_info": {
   "codemirror_mode": {
    "name": "ipython",
    "version": 3
   },
   "file_extension": ".py",
   "mimetype": "text/x-python",
   "name": "python",
   "nbconvert_exporter": "python",
   "pygments_lexer": "ipython3",
   "version": "3.8.5"
  }
 },
 "nbformat": 4,
 "nbformat_minor": 4
}
